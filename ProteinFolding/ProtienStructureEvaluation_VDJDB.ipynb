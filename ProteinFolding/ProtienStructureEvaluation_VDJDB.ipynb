{
 "cells": [
  {
   "cell_type": "code",
   "execution_count": 107,
   "metadata": {},
   "outputs": [],
   "source": [
    "from Bio import PDB\n",
    "import numpy as np\n",
    "import os\n",
    "import pandas as pd"
   ]
  },
  {
   "cell_type": "code",
   "execution_count": 185,
   "metadata": {},
   "outputs": [],
   "source": [
    "# Get the list of all files and directories\n",
    "path = \"/Users/pressm/Documents/StatML/TCRProject/matchV_results/Structures/\"\n",
    "dir_list = os.listdir(path)\n",
    "for i, l in enumerate(dir_list):\n",
    "    if l.startswith('.'):\n",
    "        del dir_list[i]"
   ]
  },
  {
   "cell_type": "code",
   "execution_count": 186,
   "metadata": {},
   "outputs": [
    {
     "data": {
      "text/plain": [
       "1128"
      ]
     },
     "execution_count": 186,
     "metadata": {},
     "output_type": "execute_result"
    }
   ],
   "source": [
    "len(dir_list)"
   ]
  },
  {
   "cell_type": "code",
   "execution_count": 187,
   "metadata": {},
   "outputs": [],
   "source": [
    "dir_split = [s.split('_') for s in dir_list]"
   ]
  },
  {
   "cell_type": "code",
   "execution_count": 188,
   "metadata": {},
   "outputs": [],
   "source": [
    "df = pd.DataFrame(dir_split)"
   ]
  },
  {
   "cell_type": "code",
   "execution_count": 189,
   "metadata": {},
   "outputs": [],
   "source": [
    "df['filename'] = dir_list"
   ]
  },
  {
   "cell_type": "code",
   "execution_count": 190,
   "metadata": {},
   "outputs": [],
   "source": [
    "df = df.drop_duplicates(subset = [0,1])"
   ]
  },
  {
   "cell_type": "code",
   "execution_count": 191,
   "metadata": {},
   "outputs": [
    {
     "data": {
      "text/plain": [
       "array(['CSARRDTNEQFF', 'CASSVESGSAYEQYF', 'CASSQGSYGYTF', 'CASNHANTGELFF',\n",
       "       'CASSYGEGSYEQYF', 'CASSTGSYGYTF', 'CASSLDRDASYNEQFF',\n",
       "       'CASSYSGSNEQYF', 'CASSARSSYEQYF', 'CASRGQPNTGELFF',\n",
       "       'CASSFTWTSGGTTDTQYF', 'CASSVPSGGETQYF', 'CASSVAVGTGSGANVLTF',\n",
       "       'CASRLTGVNKNIQYF', 'CASSLSQLWETQY', 'CASSIRSQETQYF',\n",
       "       'CASSVVDAGFEQYF', 'CASSVVAGVGYEQYF', 'CSAHRDLNTGELFF',\n",
       "       'CASSVPDRNQNYEQYF', 'CASSAWTGANNEQFF', 'CSARDQQGQNTGELFF',\n",
       "       'CSAGSGTRGETQYF', 'CASSLMAGTWFYEQYF', 'CSARWGGGTDTQYF',\n",
       "       'CASSIGDEQYF', 'CASSIGLYGYTF', 'CASSEAELLSSYNEQFFG',\n",
       "       'CASSYSSGGGETQYF', 'CASSYSTGTPGIYT', 'CASSVTSSRGGTDTQYF',\n",
       "       'CASSLAQGFHEQYF', 'CASSIRSSYEQYF', 'CASSFSETSTDTQYF',\n",
       "       'CSARGGTGNGYTF', 'CASSAGTSGVYNEQFF', 'CASSIRSTYEQYF',\n",
       "       'CASSLGQAYEQYF', 'CSARDRLAGEYSEQYF', 'CASSSQNTAEAFF',\n",
       "       'CSARDRGGENTGELFF', 'CAGQLANTGELFF', 'CASSLGDFLRTDTQYF',\n",
       "       'CASSMRSGSEQFF', 'CASSVGGAGVSNEQFF', 'CSARDLRVSTEAFF',\n",
       "       'CASSIRAAYEQYF', 'CASSPPGTGEAQAFF', 'CGARDGPGNGYT',\n",
       "       'CASSLEWGGETQYF', 'CASSERPGEHYEQYF', 'CASSLGWDSAQHF',\n",
       "       'CASSVNPGLRGGTDTQYF', 'CASSPRSSYEQYF', 'CASSPQWANTGELFF',\n",
       "       'CASSVRSSYEQYF', 'CASSVGSGPVEQYF', 'CASREGQGAGYEQYF',\n",
       "       'CASSPPGRGVVQETQYF', 'CASSDDLETQYF', 'CASSYRDRGYGYTF',\n",
       "       'CASSIRSADTQYF', 'CASSHGSGSPYGYTF', 'CASSIGGVGYTF',\n",
       "       'CASSVTGTFGYEQYF', 'CSARDGTGWNTGELFF', 'CASSVVGGDEQYF',\n",
       "       'CASRAGGAGTDTQYF', 'CASSLRSSYEQYF', 'CASSLYRGADTQYF',\n",
       "       'CASSLRGGGDTQYF', 'CSARDSAIGANPERNYGYTF', 'CASSYEAGAGETQYF',\n",
       "       'CASSPGLAAMYEQYF', 'CASSSLYGDTGELF', 'CASSLWVGGSSGANVLTF',\n",
       "       'CSARDSTGNGYTF', 'CASSLVRDRAYEQYF', 'CSARDLGAQNTGELFF',\n",
       "       'CASSLDGSVETQYF', 'CASSTRSSYEQYF', 'CASSYQTGTIYGNT',\n",
       "       'CASSYSRFPYEQYF', 'CAWSGGTTEAFF', 'CASSASARPEQF', 'CASSLEVGNQPQHF',\n",
       "       'CASSVDGKTEQYF', 'CASSLAWGRDYTEAFF', 'CAINTGDSNQPQHF',\n",
       "       'CASSLLTSGSLMNYNEQFF', 'CSARDRIGNGYTF', 'CSARTPMGQNTGELFF',\n",
       "       'CASSLGQSYEQYF', 'CSARDWEQMNTGELFF', 'CASSVEGGPGTSGGRSSYEQYF',\n",
       "       'CASKNSQGTGNEQFF', 'CSARDYRQTNTGELFF', 'CASSYTGGTTDTQYF',\n",
       "       'CASSVEGVGTSTDTQYF', 'CASSSGLVAPGELFFG', 'CASSYATGTAYGYTF',\n",
       "       'CASSMGSYGYTF', 'CASSVEGETQYF', 'CASSSRAQETQYF', 'CSARDETGNGYT',\n",
       "       'CASSVGELAGGLDTQYF', 'CASSFVPSEAGGNVNEQFF', 'CASSLGAYEQYF',\n",
       "       'CASSPTGTGLYEQYF', 'CASSLLAGVSADTQYF', 'CASSEGFNTEAFF',\n",
       "       'CASSESSGGFFNEQFF', 'CASSLVGEGRTEAFF', 'CASSYGLTGSYNEQFF',\n",
       "       'CAISESVRNSNQPQHF', 'CSARPRALSGATGELFFG', 'CASSLSSGTYEQYF',\n",
       "       'CAWSETGLGTGELFF', 'CASSADRFPYEQYF', 'CASSFSLPRTGGYGYTF',\n",
       "       'CASSVSPNEQFF', 'CASSIGSYGYTF', 'CASSYSEGTEAFF', 'CASSLRFPDIGEQYF',\n",
       "       'CASSLWIQETQYF', 'CSARDSPGNGYTF', 'CASSAGTSGQETQYF',\n",
       "       'CSARGQAITEQLFF', 'CASSHTQERANTGELFF', 'CSARDTGGGSGELFF',\n",
       "       'CSARDWTGNGYTFG', 'CSARGGGDGANEQFFG', 'CASSLGSYGYTF',\n",
       "       'CASSTRGGWVEAFF', 'CASSLEVVLWTGNTEAFF', 'CASSVAGQDTDTQYF',\n",
       "       'CSADGDSYQETQYF', 'CASSVAGSQGEQFF', 'CASSTRTDTQYF',\n",
       "       'CASSVGGSGYEQYF', 'CASSYQTGTIYGNTF', 'CASSLEGTHEQYF',\n",
       "       'CSARDRTGNGYT', 'CASSVWDSEQETQYF', 'CSARDRLAENTGELFF',\n",
       "       'CASSYQTGTGTYGYTF', 'CSARDRTGNGYTFG', 'CASSQTSGSGDTQYF',\n",
       "       'CSARDRTGNTIYF', 'CASSYRWDGVSYGYTF', 'CASSLSRSRGSYEQYF',\n",
       "       'CASSPGNTEAFF', 'CASSLMTGRETQYF', 'CASSLQTGAGAYGYTF',\n",
       "       'CASSLWASHANEQFF', 'CSARDLGGTAKNIQYF', 'CASSYSSTEAFF',\n",
       "       'CASSSVSLGNEQFF', 'CASSFNGQGATDTQYF', 'CSARDGKGNGYT',\n",
       "       'CASSYGDLYTGELFF', 'CASSTRSGWEQYF', 'CASSIRSSETQYF',\n",
       "       'CASSRDVQETQYF', 'CASRDPDGDTQYF', 'CASSLAPGATSEKLF',\n",
       "       'CASSATGEWQPQHF', 'CSARGDLRENSPLHF', 'CASSLAGQRTDTQYF',\n",
       "       'CSASRGGALYNEQFF', 'CASSPGPDGELFF', 'CASSVGDAQYEQYF',\n",
       "       'CASSSTLYGSYNEQFF', 'CSARTGTNYGYTF', 'CASSIRSNYEQYF',\n",
       "       'CASSPQTGTLSYGYTF', 'CASSIRSSYEQFF', 'CASSFRGPGYEQYF',\n",
       "       'CASSTGTGSAGYTF', 'CASSLAGTAGELFF', 'CASSPEYLQTDTQYF',\n",
       "       'CASSYGKPLYSNQPQHF', 'CSARDPPAGRDGYTF', 'CASSLGGQKNTEAFF',\n",
       "       'CASSWGMTGELFF', 'CAISEQEDQPQHF', 'CASSIGAYRYTF', 'CSAREQRGYNEQFF',\n",
       "       'CASSLDDLQGNTEAFF', 'CSARDDSGQGFGFLETQYF', 'CSARNDRGDLQMSEKLFF',\n",
       "       'CASSASYYEQYF', 'CASSLAPGATNEKLF', 'CASSVAPGEYEQYF',\n",
       "       'CASSYQTGAAYGYT', 'CASSYLGGDAANYGYTF', 'CASSVFGGGETQYF',\n",
       "       'CASSLSGLGTEAFF', 'CSARDQTGNDYT', 'CASSLAPGATNEKLFF',\n",
       "       'CASSGVGGTDTQYF', 'CASTMITGLGSNYGYTF', 'CSARDAVAANTGELFF',\n",
       "       'CASSVDSGSDYEQYF', 'CAWSYTGELFF', 'CATSTGDSNQPQHF',\n",
       "       'CASSISGTSAYYEQYF', 'CSARLLDTNYEQYF', 'CSARLAGDTGELFF',\n",
       "       'CAWVLGPAGDTQYF', 'CASSLDGNEQYF', 'CASSSLSTEAFF',\n",
       "       'CASSEGGFTFYNEQFF', 'CASSIYGGAGDGYTF', 'CASSLGNTEAFF',\n",
       "       'CASSHRSSYEQYF', 'CSARDQWAANTGELFF', 'CSAYDRGVSSNQPQHF',\n",
       "       'CASSMAGGSYNEQFF', 'CASSSRSSYEQYF', 'CASSLARGGTEAFF',\n",
       "       'CASGTGQLTNTEAFF', 'CASSTIGTGGLEKLFF', 'CASSIPRPTNEKLFF',\n",
       "       'CSARGGDNTGELFF', 'CASSPKGQGFEQYF', 'CASSLLGEQYF',\n",
       "       'CASNPTSGGSREQFF', 'CSARDGGMGAFGYTF', 'CASSAGSPAYEQYF',\n",
       "       'CASSVADNPYNEQFF', 'CSARDRTGNGYTF', 'CASSPQTGASYGYTF',\n",
       "       'CSARDGWDHNTGELFF', 'CASSPLGGAGEDTQYF', 'CASSPVTGQGFYGYTF',\n",
       "       'CASSLGTSGMGEQYF', 'CASSPHGRGEVDTQYF', 'CSARDHGATNTGELFF',\n",
       "       'CASSLTAGNNCGYTF', 'CASLLKLRDTSYEQYF', 'CASSPGMGSGYTF',\n",
       "       'CASSIRSGYEQFF', 'CASSVEASGERWLFF', 'CSARVQGGYEQYF',\n",
       "       'CSARDMASGRNEQYV', 'CASSYQTGAAYGYTL', 'CASSLTALGRGTDTQYF',\n",
       "       'CASSPQTGTGGYGYTF', 'CASSQDQGTEAFF', 'CASSPEGRPGDTQYF',\n",
       "       'CASSVNRDGGYTF', 'CASSSAGADYEQYF', 'CASSLDTENTDTQYF',\n",
       "       'CSARGGPGEVGNTIYF', 'CASSLYGGGGWEQYF', 'CASSIRSGETQYF',\n",
       "       'CASSYGGVGAYEQYF', 'CASSIGVYGYTF', 'CASSTHSGQETQYF',\n",
       "       'CSARDTGTGELVGELF', 'CASSLDGQGPLYGYTF', 'CSARDSTGNGYT',\n",
       "       'CASSMRASYEQYF', 'CASSYFGGNTEAF', 'CASSYSVRGTGELFF',\n",
       "       'CASSTGVYGYTF', 'CASTKGDMGADTQYF', 'CASSYMGLGAYEQYF',\n",
       "       'CSALLLGSNEQFF', 'CASSLGGISEQFF', 'CASSHDDLRGEYNEQFF',\n",
       "       'CASSARSSTEQYF', 'CASSLSGSGDEQFFG', 'CASSLGTGWSAGYTF',\n",
       "       'CASSMRASVEQFF', 'CASSYQQGPEAFF', 'CASSIRSGYEQYF',\n",
       "       'CSARPVQGINYGYTF', 'CSARGGTGELNEQFF', 'CASSLQGGTGELFF',\n",
       "       'CASSLETAGEQYF', 'CASSYSRQWNTEAFF', 'CSASGPGLYYNEQFF',\n",
       "       'CASSVVGNEQF', 'CASSMYGAANYGYTF', 'CASDDPNTGELFF',\n",
       "       'CASSIVLGLGEKLFF', 'CASSIRSAYEQYF', 'CSARDQTGNGYTFG',\n",
       "       'CSARDLTAGSYEQYF', 'CSARDRGIGNTIYF', 'CATQTLNTGELFF',\n",
       "       'CASSFFLPTQREYEQYF', 'CASSPTSGEYNEQFF', 'CSARDDRAQNTGELFF',\n",
       "       'CASSWGGGSHYGYTF', 'CASRLWTAETQYF', 'CASSLGGTYEQYF',\n",
       "       'CASSLGRNEQFF', 'CASSLGRTNQPQHF', 'CASSVTDYNEQFF',\n",
       "       'CSARDLGAVYQETQYF', 'CSARTGDDWNTGELFF', 'CASSLDLSGGITDTQYF',\n",
       "       'CASSLGRGYEQYF', 'CASSLDAYNEQFF', 'CASSSGGTEAFF',\n",
       "       'CSAPSYRDRDNSPLHF', 'CASSSRSGVEQYF', 'CSARDRLAQNTGELFF',\n",
       "       'CASSLELAAWETQYF', 'CASSLSQGGNEQFF', 'CASSPGGGSEAFF',\n",
       "       'CASSPDQETSYTDTQYF', 'CASSSSGTSGVYEQF', 'CASSPSLGTGGGLQFF',\n",
       "       'CASSQDRGLVDTEAFF', 'CASSPQTGAIYGYT', 'CSARDGQGMNTGELFF',\n",
       "       'CASSYWPGGGTEAFF', 'CSAHRDQNTGELFF', 'CSARIYGGGEVGNTIYF',\n",
       "       'CASSPTGTQETQYF', 'CSARSGTGGDYTFG', 'CASSVTGQLQETQYF',\n",
       "       'CSARDPRAQNTGELFF', 'CASSAPDGSYEQYF', 'CSARDHKAMNTGELFF',\n",
       "       'CSVARLAGASPYNEQFF', 'CASSSRSAYEQYF', 'CASSIRAGYTEAFF',\n",
       "       'CAWVPGTGGTEAFF', 'CASSYSAITGELF', 'CASSTRASEGQYF',\n",
       "       'CASSQDQDGTDTQYF', 'CASSLGPTGSEQFF', 'CASSVEAVPETQYF',\n",
       "       'CASRGLTGGLGELF', 'CSARFGRGETQYF', 'CASSVSARPNGYTF',\n",
       "       'CASSAPGGTSYNEQFF', 'CASSLAPGSTNEKLF', 'CASRTGYTEAFF',\n",
       "       'CASFRGAAYNEQFF', 'CASSLAGAPSGEQYF', 'CASSARTGDGYTF',\n",
       "       'CSARDRDRSLATEAFF', 'CASSSRSGETQYF', 'CSARDFNSWNTGELFF',\n",
       "       'CASSISGSSYNEQFF', 'CASSLPQGEQYF', 'CASSTGQATGELFF',\n",
       "       'CAWSVLAGGNTGELFF', 'CASSVGWREADTQYF', 'CASSGTSKRDEAFF',\n",
       "       'CSAWTSGGLSSYNEQFF', 'CASSVGVDSTDTQYF', 'CASSYSGRAHEQYF',\n",
       "       'CASSPTTGEDNEQFF', 'CASSLNRGDPEAFF', 'CASSVDVFTNNEQFF',\n",
       "       'CSAQGDLNTGELFF', 'CASSVGDFRELFF', 'CASSLSQLWETRYF',\n",
       "       'CASSYSPGTGLPGELFF', 'CASSRDGAHEQYF', 'CASSIRASYEQYF',\n",
       "       'CSARTDHNTGELFF', 'CASSGWTGPNTEAFF', 'CSARDALAQNTGELFF',\n",
       "       'CASSAQQGLSSYEQYF', 'CASSQGLAGAGELFFG', 'CASSLEGQASSYEQYF',\n",
       "       'CASSIPNSGAVNEQFF', 'CASSVGTGSNQPQHF', 'CSARDINLDTYEQYF',\n",
       "       'CASSISGFDGYTF', 'CASSLESAGGEQYF', 'CASSVRSAYEQYF',\n",
       "       'CASSNDPNTGELFF', 'CASSLVVVEDEQFF', 'CASSYFSPLAVNTGELFF',\n",
       "       'CASSSPTGGQDKNIQYF', 'CSARDGTGISGNTIYF', 'CASSTRATGELFF',\n",
       "       'CAWSVGQGTDGELFF', 'CASSLEVGRPDTEAFF', 'CAWLRDMNTGELFF',\n",
       "       'CASSLIDTVWSLEQYF', 'CSARDGTGNGYTF', 'CASSLAGTSYYNEQFF',\n",
       "       'CASSYRSTGELFF', 'CAWSVLTAESGELFF', 'CSARDGLNEQFFG',\n",
       "       'CASSIDWPGIYGYTF', 'CSASSLTSGGAPEQYF', 'CAWSITDTGELFF',\n",
       "       'CASSPITGTGIYGYTF', 'CAWSVWRRESGANVLTF', 'CSARPSLAGGYNEQFF',\n",
       "       'CASSYSFTEATYEQYF', 'CSARGWGNEANTGELFF', 'CASLPGNGAEAFF',\n",
       "       'CASSIFGGSSYNEQFF', 'CASSIRASETQYF', 'CASSQGAYGYTF',\n",
       "       'CASSMRSAYEQYF', 'CASSPQTGVGNYGYTF', 'CASSFSQTSGTGRIYYGYTFG',\n",
       "       'CASSTRLSGGTSNEQFF', 'CASSLVVIQETQYF', 'CASSLGGTGWTEAFF',\n",
       "       'CASSTMTGSTGELFF', 'CSARDGTGNDYT', 'CASSVVGNEQYF',\n",
       "       'CASSPQTGTIYGYTF', 'CASSVGAGVFTDTQYF', 'CASSLPGTDEQYF',\n",
       "       'CSARDSVAVNTGELFF', 'CASSEDSGGYNEQFF', 'CASTRAGTGVNEQFF',\n",
       "       'CASSLVVAGGPGTDTQYF', 'CASSDSGEAGELFF', 'CASSYQTGAIYGYT',\n",
       "       'CASSVEPGWDEQYF', 'CASSQVPDRGREQYF', 'CSARDLRLLANTGELFF',\n",
       "       'CASEDLNTGELFF', 'CASSFSSGSPHEQFF', 'CASSIGAYGYTF',\n",
       "       'CSARDRIGNGYTFG', 'CSAAGQGIHSPLHF', 'CASSSQGASYNEQFF',\n",
       "       'CASSLVAGELFF', 'CASSADERGGSYEQYF', 'CASSTKAGEYADTQYF',\n",
       "       'CASSSFYDSNEKLFF', 'CASSVGAGPYGYTF', 'CASSEEAGEYNEQFF',\n",
       "       'CASSLWFSWLRRDGQETQYF', 'CASSEAVDRGNEQFF', 'CASSIVAGAGAGELFF',\n",
       "       'CSARDNLQARYGYTF', 'CSARDRGATNTGELFF', 'CASSPKTGASYGYTF',\n",
       "       'CASSTRSAYEQYF', 'CASSLGGGGFYEQY', 'CASSAGAYGYTF',\n",
       "       'CASSYFSGQGFSYEQYF', 'CASSVGQVFYSGTF', 'CSARGELAVNTGELFF',\n",
       "       'CASSYQTGTIYGYT', 'CASSSWDRDEGKLFF', 'CASSLAGQGDNYEQYF',\n",
       "       'CASSTRSGYEQYF', 'CSARDEKATNTGELFF', 'CASSVGLAGSNEQFF',\n",
       "       'CASKTGGLYNEQFF', 'CASSVKGGPDTQYF', 'CSARDREQQNTGELFF',\n",
       "       'CAIGTGDTNQPQHF', 'CASSITGTSNYGYTF', 'CASSYQTGAAYGYTF',\n",
       "       'CASSARTGVGYGYTF', 'CASSLTGDGPDTQYF', 'CASSVVSGANVLTF',\n",
       "       'CASSLSESSYNEQFF', 'CASSPLFGTSGGETYYF', 'CASSLVIGDRGHSEQYF',\n",
       "       'CSARDLGTSKQYEQYF', 'CASSYGGTDGYTF', 'CASSATGSNTGELFF',\n",
       "       'CASSFSSGTTDTQYF', 'CASSQGNYGYTF', 'CASSARTGELFF',\n",
       "       'CASSPSTGTIYGYTF', 'CASSLYAPGTGVYNEQFF', 'CASSFTSGGYEQYF',\n",
       "       'CSARDQAAQNTGELFF', 'CSAGDLNTGELFF', 'CASSVQGSGTYGYTF',\n",
       "       'CASSYSTGVPGELFF', 'CASRALAGGQVEQF', 'CASSFVLAGGGYF',\n",
       "       'CASSISAGVGVGQETQYF', 'CAWSVVGMGETQYF', 'CSARDFLGGYTF',\n",
       "       'CASSNGGGRLYGYTF', 'CASSLVLQETQYF', 'CASSVADGNPQHF',\n",
       "       'CASSQGQGISYEQYF', 'CSARDPWQVNTGELFF', 'CSARDQTGNGYT',\n",
       "       'CASSVGSEAYTYEQYF', 'CSARDRGAENTGELFF', 'CASTIGTGGDYGYTF',\n",
       "       'CSARESAYNSPLHF', 'CASSIFGGQNQPQHF', 'CASSWPGGTEAFF',\n",
       "       'CASSFPLAGIYTQYF', 'CASSSPSSSYNEQFF', 'CASSLEGGTDTQY',\n",
       "       'CASSIDRVLGRTGELFF', 'CASSSPGTRVNEQFF', 'CSARDGLAQNTGELFF',\n",
       "       'CSARDPDVPGGNEQFF', 'CASSFRGQNTEAFF', 'CASKIGQGYEQYF',\n",
       "       'CASSALSGRAIDEQYF', 'CASSSGLADQDLYEQYF', 'CSARDETGNGYTF',\n",
       "       'CASSFSTGTAGGYTF', 'CSARDTGTGEHVGELF', 'CASSCAGGPRDEQYF',\n",
       "       'CASSLVQADNEQFF', 'CASSVEGGASGNTIYF', 'CASSFGSYGYTF',\n",
       "       'CASSTGQVTQETQYF', 'CASSIRAGETQYF', 'CSARDIMNTGELFF',\n",
       "       'CASRAGGSSYNEQFF', 'CASSLRASGAQYF', 'CASSLVWFGQGVGTAGYTF',\n",
       "       'CASSMDSTDTQYF', 'CSARDLDRPNTEAFF', 'CASSCQTGAACGYTF',\n",
       "       'CASRETGGSAYEQYF', 'CSARDATGNGYTFG', 'CASSIRSTETQYF',\n",
       "       'CASSVAPDTQYF', 'CSARDLVGPPNEKLFF', 'CASSLGGPLYEQYF',\n",
       "       'CASSLQRGRTSGRSTDTQYF', 'CASSFQTGASYGYTF', 'CASSEVTGTAWGYTF',\n",
       "       'CSARDETGNTIYF', 'CASNPQGAGQPQHF', 'CSARDPWGINTGELFF',\n",
       "       'CASSVRSSMNTEAFF', 'CSARDTGLDTGELFF', 'CASSTRSTGELFF',\n",
       "       'CASSVEEGGPTDTQYF', 'CSARDSLAQNTGELFF', 'CASQTANTGELFF',\n",
       "       'CSAHRDRNTGELFF', 'CSARDSTGNGYTFG', 'CASSYSEGYEQYF',\n",
       "       'CASSYTPVSMNTEAFF', 'CASSLPDYNEQFF', 'CASSRADLAGVPLGTGELFF',\n",
       "       'CASSYPTGEGQETQYF', 'CASSYFLAGGSGANVLTF', 'CSARGGLSQNTGELFF',\n",
       "       'CSARGESDQNTGELFF', 'CASSPSYEQYF', 'CASSATGTENNEQFF',\n",
       "       'CSARDLGGPNTGELFF', 'CASSSGIYGYTF', 'CACQELNTGELFF',\n",
       "       'CASSVRVASMTGELFF', 'CASSYGQTNTGELFF', 'CASSPGTGEGYEQYF',\n",
       "       'CASSDTETGGLETQYF', 'CASSKQGALTEAFF', 'CASSIRSAWEQFF',\n",
       "       'CASSFGEGLVYNEQFF', 'CASSPGQLSNTGELFF', 'CSARDLGRGWNTGELFF',\n",
       "       'CAWTRDRNTGELFF', 'CASSQDLTGPTDTQYF', 'CASSVDGDTSTDTQYF',\n",
       "       'CASSPGTGREQFF', 'CASSREWNTEAFF', 'CASTLEGSYGYTF',\n",
       "       'CASSLVTGTGKYGYTF', 'CASSLSLGGTEAFF', 'CASSIRSTGELFF',\n",
       "       'CSARDHGGDYGYTF', 'CASSFSLSGGYTF', 'CASSPEVTSGGHEQYF',\n",
       "       'CASGSGGSDEQFF', 'CASSVDALSSYEQYF', 'CASSQRLAGLTDTQYF',\n",
       "       'CASSMLPRSGPSTDTQYF', 'CSARDSRAQNTGELFF', 'CASSLTSGGATDTQYF',\n",
       "       'CASSLVSPGFGTEAFF', 'CASSYLGGWNEQFF', 'CASSANKVSGGPDNEQFF',\n",
       "       'CASSWGVMNTEAFF', 'CASSERGGLASNEQFF', 'CASSLETVNTEAFF',\n",
       "       'CSARVEPGNGYTF', 'CASQQANTGELFF', 'CASSLTPNTEAFF', 'CASSGIPGNEQFF',\n",
       "       'CSARGGQGLNTGELFF', 'CASSLAGRETEAFF', 'CSAREREGGYGYTF',\n",
       "       'CASSLAYNEQFF', 'CASSYSATGGEQYFG', 'CASSIRAAGELFF',\n",
       "       'CSARVEFGTSGQLSSYNEQFF', 'CASSVDPAQETQYF', 'CASSIGSHGYTF',\n",
       "       'CASSYSEGANTEAFF', 'CASSYSPTQGENTIYF', 'CASSISLAAEQFF',\n",
       "       'CASSGYRGLAGNNEQFF', 'CASSIGYYGYTF', 'CSARDQPAQNTGELFF',\n",
       "       'CASSLPTANYGYTF', 'CASSFGVTYEQYF', 'CASSPTPTSWETQYF',\n",
       "       'CAWEDRNTGELFF', 'CASRPQTGTIYGYTF', 'CSATLTSGGIYEQYF',\n",
       "       'CASSVAGGDEQY', 'CASSVRDSILPSGANVLTF', 'CASSASALSYEQYF',\n",
       "       'CAWVERNTGELFF', 'CSARDDQAVNTGELFF', 'CSARDREGGNSPLHF',\n",
       "       'CASSPEFEVWADTQYF', 'CASDTGGGYGYTF', 'CASSLRQGEGMGEQFF',\n",
       "       'CASSFGQGLSEQFF', 'CASSIFYSSTDTQYF', 'CASSIQSYNEQFF',\n",
       "       'CASSFTGKGYNEQFF', 'CASSYSIGALEAFF', 'CSARDLSGGSYNEQFF',\n",
       "       'CASSEALLVWRNEKLFF', 'CATSWGGSGELFF', 'CAWSTGTGWPLHF',\n",
       "       'CSARTGTGNSYTF', 'CASSPGQGIRPGEAFF', 'CSARPRTSGSGAGELFF',\n",
       "       'CASSVVSGGTEAFF', 'CASSLEIQGSGAFF', 'CASSLLIQGGENTEAF',\n",
       "       'CASSLGYEQYF', 'CASSRLYGNTGELFF', 'CASSVEVGTGDNEQFF',\n",
       "       'CSARDGVGSGSTYEQYF', 'CASSEAVLAGGPGDF', 'CASSLTNPYEQYF',\n",
       "       'CASRGLAGGLGELF', 'CASSPVTGQGFYGYT', 'CSARDRGAANTGELFF',\n",
       "       'CASSSQLWREEIEQFF', 'CASSPLAGVTDTQYF', 'CSARSGQGNDYTF',\n",
       "       'CASSSQGLGNTIYF', 'CASSFEASVSTDTQYF', 'CAISEMTGSVSPLHF',\n",
       "       'CASNEAGVDNEQFF', 'CSARDAAATNTGELFF', 'CASSPRGNYGYTF',\n",
       "       'CASSFTSGTTDTQYF', 'CASSLNSPIAYGYTF', 'CSARDKTGNGYTF',\n",
       "       'CASSTRAAYEQYF', 'CASSFSSGSPHEQFFG', 'CASSLSRKGELFF',\n",
       "       'CASSLRGTETEAFF', 'CASSYQTGTIYGYTF', 'CASSVVGNEQFF',\n",
       "       'CSARDYLNSYEQYF', 'CASSLGFLGPAAGNTIYF', 'CSARDLGSGTGELFF',\n",
       "       'CASSLGQAYGYTF', 'CAISTGDSNQPQHF', 'CASSFLAGGNTGELFF',\n",
       "       'CASSPSTVSAEQYF', 'CASTAGQTTNFNEQFF', 'CASSIRSDEKLFF',\n",
       "       'CASSHGQLNTEAFF', 'CASSVNPNPIRDRDNEKLFF', 'CASSLTGEDEQYF',\n",
       "       'CASSLQVNIYEQYF', 'CASSLVGGELFF', 'CASSLGGSEAFF',\n",
       "       'CASSLGGASNYGYTF', 'CASSVGSYGYTF', 'CSATDRVTGNTEAFF',\n",
       "       'CASSVGPLEAFSYEQYF', 'CASRLSGGGYNEQFF', 'CASSWGAYGYTF',\n",
       "       'CASRLQTGTIYGYTF', 'CASSLDLAVDNEQFF', 'CASSWAGEPRDEQYF',\n",
       "       'CASSLVTGTGWGYTF', 'CSARDQPGQNTGELFF', 'CASSEMTGVDEQFF',\n",
       "       'CASSFGGNEAFF', 'CSARDPLAINTGELFF', 'CASSLASPGHFTGELFF',\n",
       "       'CASSEAGQTYYNEQFF', 'CASSPTSGGYEQYF', 'CSASYYRDRGLYEQFF',\n",
       "       'CGARDGTGNGYT', 'CSALRLAGGLAHEQFF', 'CASSFQGLGYEQYF',\n",
       "       'CSARIGVGNGYTF', 'CASSARNSIEAFF', 'CSARDGTSAEYF',\n",
       "       'CASSFPGTSGIDEQFF', 'CASSLLTGHEQFF', 'CASSGLAGANEQFF',\n",
       "       'CSARVGPTGNTIYF', 'CASSPATGTIYGYTF', 'CASSPGGLNEKLFF',\n",
       "       'CASSVVGGNEQFF', 'CASSSNIPDRERDYGYTF', 'CASSLQTGAGGFGYT',\n",
       "       'CASRLAGGQLNEQFF', 'CASSERAGELFF', 'CASSDGGGGSEAFF',\n",
       "       'CASSYGRAYEQYF', 'CSARDEVAHNTGELFF', 'CASSRGQPNEKLFF',\n",
       "       'CASSGGYEQYF', 'CASSFHRRPFDGYNEQFF', 'CASSPTTGASYGYTF',\n",
       "       'CASSLAFSYNEQFF', 'CASSDPDRAVTEAFF', 'CASSVGASLNTEAF',\n",
       "       'CASRKGGSSYNEQFF', 'CASSLGTSGGTGELFF', 'CASSSQGGSYGYTF',\n",
       "       'CASSYSASGGEQFF', 'CASSPTTGTGHYGYTF', 'CASSLAPGTTNEKLFF',\n",
       "       'CAWSQMGLGTEAFF', 'CSARDVPGSIGGYTF', 'CSARGDYSFHEQFF',\n",
       "       'CASSLGLAATYNEQFF', 'CASSDANTGELFF', 'CASSVLRTSGSYNEQFF',\n",
       "       'CSARQMDYNEQFF', 'CSARDSVGNGYTF', 'CASSLGLAGARGSSYNEQFF',\n",
       "       'CSARDSKGNGWNTGELFF', 'CASSQTQLWETQYF', 'CASSEAPRVGNQPQHF',\n",
       "       'CASSLSGTEQFF', 'CASSQEEESLGYEQYF', 'CASSSGLLTADEQF',\n",
       "       'CASSVGLHGQPTNEKLFF', 'CSARDYRTGDEKLFF', 'CASSEGGGALSTDTQYF',\n",
       "       'CASSLTVYQETQYF', 'CASSFGTDTQYF', 'CASSIRSGNEQYF', 'CSARDRKGNGYT',\n",
       "       'CAGSLVTGTGWGYTF', 'CSARDEWGQGNTEAFF', 'CASSSPAGGQYNEQFF',\n",
       "       'CSARDGTGNGYT', 'CASSVLAGDTQYF', 'CSARDERALNTGELFF',\n",
       "       'CSAHWGLESSPLHF', 'CASSPKTSGTSYEQYF', 'CSARDPPRVNTGELFF',\n",
       "       'CASSVTAGGADTQYF', 'CSAKDRGSQETQYF', 'CASSLDSSYGYTF',\n",
       "       'CASSVRGRGTQTDTQYF', 'CASSLRVSYEQYF', 'CSARDAGGQNTGELFF',\n",
       "       'CSARPGEQGGDGYTF', 'CASSLVAHTQYF', 'CASSYGSGDGYTF',\n",
       "       'CASSPRTDLGEQYF', 'CSARDRPGGPSNQPQHF', 'CASSYLTGTSGEQFF',\n",
       "       'CSARVIDYLRGNEQFF', 'CASSSQGANEKLFF', 'CSAQAGVDNSPLHF',\n",
       "       'CSAHGDLNTGELFF', 'CASSFLTGQGETQYF', 'CSARVSPEGGPENYGYTF',\n",
       "       'CASSVGGTGVTLDTQYF', 'CASSPGYEQYF', 'CASSLGWDGNTDTQYF',\n",
       "       'CSARDLAAQNTGELFF', 'CASSLNTEAFF', 'CASSVGGYTEAFF',\n",
       "       'CASSLAPLQGPSTDTQYF', 'CASSFSSGTTDT', 'CASSTPNYLREDTEAFF',\n",
       "       'CASSLGQGLINYEQYF', 'CASSYSGQGVEQYF', 'CSARTGEAGYTF',\n",
       "       'CASSITLADGYTF', 'CASSEPGPTNTEAFF', 'CASRSGSLNTEAFF',\n",
       "       'CASRSGGKNTEAFF', 'CASSVWADPNEAFF', 'CSARDGTGNGYTFG',\n",
       "       'CSARDQTGNTIYF', 'CASSSGGARETQYF', 'CSARDRIGNGYT',\n",
       "       'CAISHPGQGGQPQHF', 'CASSLDGEGYGAFTDTQYF', 'CASSSQEGDRYNEQFF',\n",
       "       'CSARDHRGANTGELFF', 'CASSVQAGGYGYTF', 'CSARDLEVLSYEQYF',\n",
       "       'CASSSTETGTEAFF', 'CSARDGSGNGYT', 'CASSDHRSGASTDTQYF',\n",
       "       'CASSIRGAYEQYF', 'CSAREEAGDDTGELFF', 'CAWQTLNTGELFF',\n",
       "       'CATGTGTGDNEQFF', 'CASSLGSGRLNTEAFF', 'CASSPRTKSFLSYGYTF',\n",
       "       'CASSSFLGAEAFF', 'CASSPLAGIYNEQFF', 'CASSDLTGGEAFF',\n",
       "       'CASSVDSGAGTEAFF', 'CASSLSMVILESGALGAFF', 'CSARDLAGMNTGELFF',\n",
       "       'CSARDGLAMNTGELFF', 'CASSVGALSQETQYF', 'CASSANSGGYTF',\n",
       "       'CSARPGTASLVGNTIYF', 'CSARNPSGTNNEQFF', 'CASRSASNEQFF',\n",
       "       'CASSPVAGAPHEQYF', 'CASSWDRFNEQFF', 'CASSLTGNTEAFF',\n",
       "       'CASSLAWGQLSGYTF', 'CASSHQTGQGETQYF', 'CASSVYLSGNTIYF',\n",
       "       'CSARDEAGQNTGELFF', 'CASSPQTGVGYGYT', 'CASSLSGQGRGEQFF',\n",
       "       'CASSALPAGGITGELFF', 'CASSPWGGGTEAFF', 'CSAREGTGNGYT',\n",
       "       'CSARDDYLGNWNEQFF', 'CASTDLNTGELFF', 'CSARWGLLVNTGELFF',\n",
       "       'CASSQQGQPQETQYF', 'CASSVVGYLGYTF', 'CASSIAAVSLANYGYTF',\n",
       "       'CASSPLVEGNYGYTF', 'CSARTAPVGNEQFF', 'CASGLGTSYNEQFF',\n",
       "       'CASSKQGSTEAFF', 'CSARDQTGNGYTF', 'CASRMDIFRMGNTIYF',\n",
       "       'CSARDGVAHNTGELFF', 'CSARDLAGENTGELFF', 'CASSWSGGSHYGYTF',\n",
       "       'CSARDRVGNGYTF', 'CASSLAPGTTNEKLF', 'CASSVGAGSGQPQHF',\n",
       "       'CSARVLTSGETYEQYF', 'CASSDGQVATNEKLFF', 'CASSPGVLANEQYF',\n",
       "       'CASSPVGGFFEQYF', 'CSASGLAAYNEQFF'], dtype=object)"
      ]
     },
     "execution_count": 191,
     "metadata": {},
     "output_type": "execute_result"
    }
   ],
   "source": [
    "df[1].unique()"
   ]
  },
  {
   "cell_type": "code",
   "execution_count": 192,
   "metadata": {},
   "outputs": [
    {
     "data": {
      "text/plain": [
       "(87, 99)"
      ]
     },
     "execution_count": 192,
     "metadata": {},
     "output_type": "execute_result"
    }
   ],
   "source": [
    "from Bio.pairwise2 import *\n",
    "def get_start_stop(seq, cdr3):\n",
    "    start_idx = len(seq.split(cdr3)[0])\n",
    "    stop_idx = len(seq) - len(seq.split(cdr3)[1])\n",
    "    \n",
    "    return start_idx, stop_idx\n",
    "    \n",
    "get_start_stop(seq,cdr3)"
   ]
  },
  {
   "cell_type": "code",
   "execution_count": 195,
   "metadata": {},
   "outputs": [],
   "source": [
    "def compare_cdr3(ref, new, cdr3, path, idx): #compares two cdr3s\n",
    "    # Load the two structures\n",
    "    parser = PDB.PDBParser()\n",
    "\n",
    "    for file in dir_list:\n",
    "        structure1 = parser.get_structure('structure1', path + ref)\n",
    "        structure2 = parser.get_structure('structure2', path + new)\n",
    "\n",
    "    # Extract the atom coordinates of the aligned residues\n",
    "        residues1 = []\n",
    "        residues2 = []\n",
    "        for model1, model2 in zip(structure1, structure2):\n",
    "            for chain1, chain2 in zip(model1, model2):\n",
    "                poly1 = PDB.Polypeptide.Polypeptide(chain1).get_sequence()\n",
    "                poly1_s, poly1_e = get_start_stop(poly1, cdr3) \n",
    "                poly2 = PDB.Polypeptide.Polypeptide(chain2).get_sequence() \n",
    "                poly2_s, poly2_e = get_start_stop(poly2, cdr3)\n",
    "                chain1_slice = [res for res in chain1 if poly1_s < res.id[1] <= poly1_e]\n",
    "                chain2_slice = [res for res in chain2 if poly2_s < res.id[1] <= poly2_e] \n",
    "                for residue1, residue2 in zip(chain1_slice, chain2_slice):\n",
    "                    if residue1.has_id('CA'):\n",
    "                        residues1.append(residue1['CA'])\n",
    "                    if residue2.has_id('CA'):\n",
    "                        residues2.append(residue2['CA'])\n",
    "    # Perform the structural superimposition\n",
    "        superimposer = PDB.Superimposer()\n",
    "        superimposer.set_atoms(residues1, residues2)\n",
    "        superimposer.apply(residues2)\n",
    "        return(superimposer.rms)\n",
    "        "
   ]
  },
  {
   "cell_type": "code",
   "execution_count": 196,
   "metadata": {},
   "outputs": [
    {
     "name": "stdout",
     "output_type": "stream",
     "text": [
      "[5.240918582948187e-15]\n",
      "[1.1625415980626324]\n",
      "[1.2728406129405392]\n",
      "[1.1271739748000455e-15]\n",
      "[2.992390580450473, 2.7031733984485484]\n",
      "[3.446860576627493e-15, 3.446860576627493e-15]\n",
      "[1.1088104203746145]\n",
      "[3.4889558180370535e-15]\n",
      "[3.1881782364686756e-15]\n",
      "[3.939972413308274]\n",
      "[0.6923547450221536]\n",
      "[4.257238459077991e-15]\n",
      "[2.3601111148372818, 3.748955369454309e-15]\n",
      "[6.102498874827135e-15]\n",
      "[1.5648735742348965, 1.7595818811302875]\n",
      "[0.23005396843461529, 5.2942679662080745e-15]\n",
      "[0.5289460343401796]\n",
      "[2.860726798592879e-15, 3.4212430996601038]\n",
      "[2.5121951117100183e-15]\n",
      "[1.032578432563632]\n",
      "[2.48577842419414e-15]\n",
      "[1.9655292964749e-15, 1.9655292964749e-15]\n",
      "[2.4381067199968474, 2.4381067199968474, 2.4381067199968474]\n",
      "[1.886008399057247]\n",
      "[2.2873330316873422e-15]\n",
      "[3.4704782923191972]\n",
      "[0.9191339764088822]\n",
      "[2.380251118286585e-15]\n",
      "[3.0364588257878743e-15]\n",
      "[7.0722125642749194e-15]\n",
      "[3.0143658586214952e-15]\n",
      "[2.0075745073599878]\n",
      "[3.0665990490129826, 3.0665990490129826]\n",
      "[4.268295401905863e-15]\n",
      "[2.4236514457283395e-15]\n",
      "[5.021554357852521e-15]\n",
      "[3.3941823506729385, 3.316723749570624]\n",
      "[1.9735114372330191]\n",
      "[0.9597326403494789]\n",
      "[1.4986014070761269, 2.9201187214518133e-15]\n",
      "[0.2748304264371168]\n",
      "[2.951414079065246, 5.231573832091169e-15]\n",
      "[2.0238021397637435e-15, 2.0238021397637435e-15]\n",
      "[2.702602782652988e-15, 2.702602782652988e-15]\n",
      "[1.418675340403725]\n",
      "[2.6424274987465437, 3.478849365238035e-15]\n",
      "[0.5806999114028776]\n",
      "[2.6713357320021207e-14]\n",
      "[0.26238380762832375]\n",
      "[2.5861548663204728]\n",
      "[0.5862787915242688]\n",
      "[1.6102513918242498]\n",
      "[1.4934772740943854]\n",
      "[3.26989290025878e-14]\n",
      "[2.377177896949799e-15, 0.7039701106801215]\n",
      "[0.7594726877736314]\n",
      "[4.724615998523474]\n",
      "[1.5821722669003704]\n",
      "[0.16817343648418043]\n",
      "[2.7577833408474222e-15, 2.7577833408474222e-15]\n",
      "[2.587081703915538e-15, 0.938216217579276, 2.587081703915538e-15]\n",
      "[4.144160911344253]\n",
      "[2.9036099814798757e-15, 2.306899313640135]\n",
      "[2.152134234379869e-15]\n",
      "[0.12470363213561893]\n",
      "[9.915803957051905e-16]\n",
      "[1.1784148925598825]\n",
      "[3.4992788590328673e-15, 3.4992788590328673e-15]\n",
      "[2.105699171395538, 3.58048942556252e-15]\n",
      "[0.7854215152050495]\n",
      "[2.2691774499394518e-15, 4.098022153539635]\n",
      "[0.6632690467845347]\n",
      "[2.131957522218466]\n",
      "[1.0349253529123406]\n",
      "[2.2313250820775403]\n",
      "[2.5989654674417885e-15]\n",
      "[4.051729054020146e-15]\n",
      "[2.5828635832784062e-15]\n",
      "[2.407741811438808]\n",
      "[2.110067873990295]\n",
      "[0.22414666752896886]\n",
      "[1.821254363816144, 1.4271640536833459]\n",
      "[3.2215815168186137]\n",
      "[1.0671508950905375, 2.677609270626187e-15]\n",
      "[1.8177742408614594e-15]\n",
      "[1.919966313390207]\n",
      "[1.0908917421783175]\n",
      "[3.1855482484360738]\n",
      "[0.7408363568721618]\n",
      "[2.6765942003668826e-15]\n",
      "[6.198472825796301]\n",
      "[1.9137263080824195e-15]\n",
      "[3.1554609022985325]\n",
      "[2.010699415441723e-15, 2.010699415441723e-15]\n",
      "[2.882553318379121e-15]\n",
      "[0.5167949658286722]\n",
      "[2.989190399898928, 2.9164964048455295, 2.989190399898928]\n",
      "[3.2241416808841312]\n",
      "[3.699768201449428, 4.462656829765268]\n",
      "[4.173202789579747e-15]\n",
      "[3.2094935966734834e-15]\n",
      "[4.454669523338856]\n",
      "[2.355499465968575]\n",
      "[2.5587002476491505]\n",
      "[2.6743472926073828e-15, 2.6743472926073828e-15]\n",
      "[5.8865381642706736e-15]\n",
      "[2.1369574881083387e-15]\n",
      "[4.154267236622111]\n",
      "[3.3649536027313403]\n",
      "[0.27100419678913057]\n",
      "[3.0578843253503066e-15, 3.0578843253503066e-15]\n",
      "[0.6098200144302787]\n",
      "[2.0964380220203715e-15]\n",
      "[1.9266648319860823e-15]\n",
      "[1.0997925253990641, 0.8994856279216458]\n",
      "[7.303676154917366e-15]\n",
      "[1.795565244889504, 1.814566657223157]\n",
      "[2.521906385056593]\n",
      "[0.21021868198086932]\n",
      "[3.4988711918658613e-15]\n",
      "[4.048001913612846, 3.248732921883628]\n",
      "[2.3867489637744487e-15]\n",
      "[3.182550966951196e-15]\n",
      "[0.47009916182428685]\n",
      "[3.9000282542054983]\n",
      "[2.1271400482275566e-15]\n",
      "[0.9741006536710104]\n",
      "[1.2705484225939571e-14, 1.2705484225939571e-14]\n",
      "[2.3122943142569743]\n",
      "[2.8754767128350775e-15]\n",
      "[1.8709264776092274]\n",
      "[2.0178959625849986]\n",
      "[1.127694892108782]\n",
      "[2.4403159208781564]\n",
      "[0.9177527205445979]\n",
      "[2.3397033820111535e-15, 2.3397033820111535e-15]\n",
      "[4.1983920775721816e-15]\n",
      "[2.710121225221792]\n",
      "[2.1870653594861857]\n",
      "[3.557968173615006e-15]\n",
      "[2.9391418346162963]\n",
      "[3.7333540348500406e-15]\n",
      "[1.4057028847708493]\n",
      "[4.923185078068423e-15]\n",
      "[1.0146996485701887]\n",
      "[2.1351443178563145e-15]\n",
      "[4.08155497117105]\n",
      "[0.0002306317795081606]\n",
      "[4.000987783264334e-15]\n",
      "[3.2460634321362372e-15]\n",
      "[0.8924082413572717]\n",
      "[2.198129442157285e-15]\n",
      "[2.065461699574566]\n",
      "[1.9453592434726745]\n",
      "[3.137898519458448]\n",
      "[2.2602809380558964e-15]\n"
     ]
    }
   ],
   "source": [
    "repeats = []\n",
    "mean_result = []\n",
    "std_result = []\n",
    "num_repeats = []\n",
    "duplicates = []\n",
    "for id in df[1].unique(): #find the files that contain the same vdjdb cdr3 and compare them\n",
    "    df_sub = df[df[1] == id]\n",
    "    df_sub = df_sub.reset_index(drop = True)\n",
    "    if len(df_sub) > 1:\n",
    "        ref = df_sub['filename'].iloc[0]\n",
    "        res = []\n",
    "        for i in range(1,len(df_sub)):\n",
    "            new = df_sub['filename'].iloc[i]\n",
    "            res.append(compare_cdr3(ref, new, id, path, 0))\n",
    "        print(res)\n",
    "        duplicates.append(df_sub[0].values)\n",
    "        num_repeats.append(len(df_sub))\n",
    "        repeats.append(id)\n",
    "        mean_result.append(np.mean(res))\n",
    "        std_result.append(np.std(res))"
   ]
  },
  {
   "cell_type": "code",
   "execution_count": 197,
   "metadata": {},
   "outputs": [],
   "source": [
    "results  = pd.DataFrame({'duplicates':duplicates,'ID':repeats, 'mean':mean_result, 'std':std_result, 'num_repeats':num_repeats})"
   ]
  },
  {
   "cell_type": "code",
   "execution_count": 198,
   "metadata": {},
   "outputs": [],
   "source": [
    "lens1 = []\n",
    "for dup in results[results['mean'] > 2]['duplicates'].values:\n",
    "    l = []\n",
    "    for d in dup:\n",
    "        l.append(len(d))\n",
    "        \n",
    "    lens1.append(np.mean(l))\n",
    "    \n",
    "lens2 = []\n",
    "for dup in results[results['mean'] <= 2]['duplicates'].values:\n",
    "    l = []\n",
    "    for d in dup:\n",
    "        l.append(len(d))\n",
    "        \n",
    "    lens2.append(np.mean(l))\n",
    "    "
   ]
  },
  {
   "cell_type": "code",
   "execution_count": 203,
   "metadata": {},
   "outputs": [
    {
     "data": {
      "text/plain": [
       "14.681623931623932"
      ]
     },
     "execution_count": 203,
     "metadata": {},
     "output_type": "execute_result"
    }
   ],
   "source": [
    "np.mean(lens1)"
   ]
  },
  {
   "cell_type": "code",
   "execution_count": 204,
   "metadata": {},
   "outputs": [
    {
     "data": {
      "text/plain": [
       "14.16951566951567"
      ]
     },
     "execution_count": 204,
     "metadata": {},
     "output_type": "execute_result"
    }
   ],
   "source": [
    "np.mean(lens2)"
   ]
  },
  {
   "cell_type": "code",
   "execution_count": 199,
   "metadata": {},
   "outputs": [],
   "source": [
    "df1 = pd.DataFrame({'cat':'error > 2', 'results': lens1})\n",
    "df2 = pd.DataFrame({'cat':'error <= 2', 'results': lens2})"
   ]
  },
  {
   "cell_type": "code",
   "execution_count": 200,
   "metadata": {},
   "outputs": [],
   "source": [
    "df = pd.concat([df1, df2])"
   ]
  },
  {
   "cell_type": "code",
   "execution_count": 201,
   "metadata": {},
   "outputs": [
    {
     "data": {
      "text/plain": [
       "<AxesSubplot: xlabel='cat', ylabel='results'>"
      ]
     },
     "execution_count": 201,
     "metadata": {},
     "output_type": "execute_result"
    },
    {
     "data": {
      "image/png": "[encoded data removed]",
      "text/plain": [
       "<Figure size 640x480 with 1 Axes>"
      ]
     },
     "metadata": {},
     "output_type": "display_data"
    }
   ],
   "source": [
    "sns.barplot(df, x = 'cat', y = 'results')"
   ]
  },
  {
   "cell_type": "code",
   "execution_count": 202,
   "metadata": {},
   "outputs": [
    {
     "name": "stdout",
     "output_type": "stream",
     "text": [
      "MannwhitneyuResult(statistic=2889.0, pvalue=0.011777752035695047)\n"
     ]
    }
   ],
   "source": [
    "from scipy.stats import mannwhitneyu\n",
    "\n",
    "res = mannwhitneyu(lens, lens2)\n",
    "print(res)"
   ]
  },
  {
   "cell_type": "code",
   "execution_count": 143,
   "metadata": {},
   "outputs": [],
   "source": [
    "import matplotlib.pyplot as plt\n",
    "import seaborn as sns"
   ]
  },
  {
   "cell_type": "code",
   "execution_count": 145,
   "metadata": {},
   "outputs": [
    {
     "data": {
      "text/plain": [
       "Text(0.5, 0, 'mean difference (Angstroms)')"
      ]
     },
     "execution_count": 145,
     "metadata": {},
     "output_type": "execute_result"
    },
    {
     "data": {
      "image/png": "[encoded data removed]",
      "text/plain": [
       "<Figure size 640x480 with 1 Axes>"
      ]
     },
     "metadata": {},
     "output_type": "display_data"
    }
   ],
   "source": [
    "sns.histplot(results, x = 'mean')\n",
    "plt.xlabel('mean difference (Angstroms)')"
   ]
  }
 ],
 "metadata": {
  "kernelspec": {
   "display_name": "Python 3",
   "language": "python",
   "name": "python3"
  },
  "language_info": {
   "codemirror_mode": {
    "name": "ipython",
    "version": 3
   },
   "file_extension": ".py",
   "mimetype": "text/x-python",
   "name": "python",
   "nbconvert_exporter": "python",
   "pygments_lexer": "ipython3",
   "version": "3.9.13"
  },
  "orig_nbformat": 4
 },
 "nbformat": 4,
 "nbformat_minor": 2
}
